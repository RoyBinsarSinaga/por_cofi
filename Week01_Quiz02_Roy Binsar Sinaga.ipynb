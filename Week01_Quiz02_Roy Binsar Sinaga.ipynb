{
 "cells": [
  {
   "cell_type": "markdown",
   "metadata": {
    "id": "0rZr65tXoqh6"
   },
   "source": [
    "### **Link Pengumpulan Quiz02**\n",
    "https://forms.gle/X5PmWVvtXqx34TUU7"
   ]
  },
  {
   "cell_type": "markdown",
   "metadata": {
    "id": "EBHXFB9boqiA"
   },
   "source": [
    "### **Soal 1 List Comprehension (Easy)**"
   ]
  },
  {
   "cell_type": "markdown",
   "metadata": {
    "id": "IiUFe_c0oqiB"
   },
   "source": [
    "Buatlah codingan ketika dalam sebuah list angka tersebut adalah bilangan genap maka bilangan tersebut di kuadratkan.<br><br>\n",
    "input<br>\n",
    "x=[1,2,3,4,5,6]\n",
    "<br>\n",
    "<br>\n",
    "output :<br>[1,4,3,16,5,36]"
   ]
  },
  {
   "cell_type": "code",
   "execution_count": 16,
   "metadata": {
    "id": "ExXrIRRRoqiB"
   },
   "outputs": [
    {
     "name": "stdout",
     "output_type": "stream",
     "text": [
      "[1, 36, 4, 5, 144, 100]\n"
     ]
    }
   ],
   "source": [
    "x=[1,6,2,5,12,10]\n",
    "#your code goes here\n",
    "\n",
    "list_of_digits = []\n",
    "for i in x :\n",
    "    if i % 2 == 0:\n",
    "        i = i**2\n",
    "        list_of_digits.append(int(i))\n",
    "\n",
    "    else:\n",
    "        list_of_digits.append(int(i))\n",
    "        \n",
    "print(list_of_digits)\n",
    "    \n",
    "       \n",
    "\n",
    "# expected output: [1,4,16,5,64,100]"
   ]
  },
  {
   "cell_type": "markdown",
   "metadata": {
    "id": "ilryuk0SoqiE"
   },
   "source": [
    "### Soal 2 (Medium)\n",
    "\n",
    "Buat program dengan 4 variabel:\n",
    "1. Sebuah list berisikan > 5 angka (integer) dengan minimal salah satu terdapat angka yang habis di bagi variabel `divider`\n",
    "2. Sebuah variabel yang akan menjadi pembagi list yang ada di atas (integer)\n",
    "3. Sebuah list untuk menyimpat value dari list pertama yang habis di bagi `divider`\n",
    "4. Sebuah variabel yang menghitung ada berapa value yang habis dibagi `divider`\n",
    "\n",
    "Buat kondisi:\n",
    "- **jika ada** angka yang bisa dibagi `divider` maka print angka tersebut beserta banyak value yang habis dibagi\n",
    "- **Jika tidak** maka tambahkan nilai `divider kedalam list pertama dan munculkan list tersebut\n",
    "\n",
    "Example 1:\n",
    "> Input:\n",
    "- Numb = [10, 15, 20, 25, 30]\n",
    "- divider = 10\n",
    "\n",
    "> Output:\n",
    "- Ada 3 nilai yang habis dibagi 10 yaitu 10, 20, 30\n",
    "\n",
    "Example 2:\n",
    "> Input:\n",
    "- Numb = [1, 7, 10, 13, 21, 25]\n",
    "- divider = 12\n",
    "\n",
    "> Output:\n",
    "- List tidak memiliki angka yang habis dibagi 12\n",
    "- Update List = [1, 7, 10, 13, 21, 25, 12]"
   ]
  },
  {
   "cell_type": "code",
   "execution_count": null,
   "metadata": {
    "id": "EI0NHUHToqiF"
   },
   "outputs": [],
   "source": [
    "def devider(numb,divisor):\n",
    "    #your code goes here"
   ]
  },
  {
   "cell_type": "code",
   "execution_count": null,
   "metadata": {
    "id": "admtYia7oqiG",
    "outputId": "820b5ebd-57c9-4b1b-b933-0f9a59197b84"
   },
   "outputs": [
    {
     "name": "stdout",
     "output_type": "stream",
     "text": [
      "There are 6 value which can be divided by 2 which is 2, 14, 24, 80, 48, 96\n"
     ]
    }
   ],
   "source": [
    "numb = [2, 5, 9, 37, 14, 24, 17, 1, 80, 48, 96]\n",
    "divisor = 2\n",
    "\n",
    "devider(numb,divisor)\n",
    "\n",
    "# expected output\n",
    "# There are 6 value which can be divided by 2 which is 2, 14, 24, 80, 48, 96"
   ]
  },
  {
   "cell_type": "code",
   "execution_count": null,
   "metadata": {
    "id": "NMklQC3xoqiH",
    "outputId": "141dbbc4-a07f-4b52-d660-d1c97f42fa75"
   },
   "outputs": [
    {
     "name": "stdout",
     "output_type": "stream",
     "text": [
      "List doesn't contain 100 and it's added to the List\n",
      "[2, 5, 9, 37, 14, 24, 17, 1, 80, 48, 96, 100]\n"
     ]
    }
   ],
   "source": [
    "numb = [2, 5, 9, 37, 14, 24, 17, 1, 80, 48, 96]\n",
    "divisor = 100\n",
    "\n",
    "devider(numb,divisor)\n",
    "\n",
    "# expected output\n",
    "# List doesn't contain 100 and it's added to the List\n",
    "# [2, 5, 9, 37, 14, 24, 17, 1, 80, 48, 96, 100]"
   ]
  },
  {
   "cell_type": "markdown",
   "metadata": {
    "id": "35W3v_nXoqiI"
   },
   "source": [
    "### **Soal 3 List Comprehension (Hard)**"
   ]
  },
  {
   "cell_type": "markdown",
   "metadata": {
    "id": "ZEY29BuQoqiI"
   },
   "source": [
    "Buatlah list comprehension dengan persyaratan sebagai berikut:\n",
    "\n",
    "1. Jika bilangan genap maka bilangan tersebut di kuadratkan.\n",
    "2. Jika bilangan ganjil maka angka tersebut di bagi 2\n",
    "3. jika bilangan 0 maka angka tersebut tidak dimasukan kedalam list \n",
    "<br>\n",
    "<br>\n",
    "input<br>\n",
    "x=[0,1,2,3,4,5,6]\n",
    "<br>\n",
    "<br>\n",
    "output :<br>\n",
    "[0.5, 4, 1.5, 16, 2.5, 36]"
   ]
  },
  {
   "cell_type": "code",
   "execution_count": 170,
   "metadata": {
    "id": "7kZ5jhqQoqiJ"
   },
   "outputs": [
    {
     "name": "stdout",
     "output_type": "stream",
     "text": [
      "[0.5, 4, 16, 2.5, 64, 100]\n"
     ]
    }
   ],
   "source": [
    "x=[0,1,2,4,0,5,0,8,10]\n",
    "#your code goes here\n",
    "\n",
    "list_of_digits = []\n",
    "for i in x :\n",
    "    if i!=0 and i % 2 == 0:\n",
    "        i = i**2\n",
    "        list_of_digits.append(int(i))\n",
    "\n",
    "    elif i!=0 and i % 2 !=0 :\n",
    "        i = i/2\n",
    "        list_of_digits.append(float(i))\n",
    "    else:\n",
    "        pass\n",
    "        \n",
    "print(list_of_digits)\n",
    "# expected output: [0.5, 4, 16, 2.5, 64, 100]\n"
   ]
  },
  {
   "cell_type": "code",
   "execution_count": 169,
   "metadata": {},
   "outputs": [
    {
     "data": {
      "text/plain": [
       "[0, 0.5, 4, 16, 0, 2.5, 0, 64, 100]"
      ]
     },
     "execution_count": 169,
     "metadata": {},
     "output_type": "execute_result"
    }
   ],
   "source": [
    "x=[0,1,2,4,0,5,0,8,10]\n",
    "y = {0}\n",
    "list_of_digits = [ int(i**2) if (i!=0) and (i % 2== 0) else float(i/2)  if (i!=0) and (i % 2 !=0) else i for i in x ]\n",
    "list_of_digits"
   ]
  }
 ],
 "metadata": {
  "colab": {
   "provenance": []
  },
  "kernelspec": {
   "display_name": "Python 3 (ipykernel)",
   "language": "python",
   "name": "python3"
  },
  "language_info": {
   "codemirror_mode": {
    "name": "ipython",
    "version": 3
   },
   "file_extension": ".py",
   "mimetype": "text/x-python",
   "name": "python",
   "nbconvert_exporter": "python",
   "pygments_lexer": "ipython3",
   "version": "3.9.13"
  },
  "vscode": {
   "interpreter": {
    "hash": "ad2bdc8ecc057115af97d19610ffacc2b4e99fae6737bb82f5d7fb13d2f2c186"
   }
  }
 },
 "nbformat": 4,
 "nbformat_minor": 1
}
